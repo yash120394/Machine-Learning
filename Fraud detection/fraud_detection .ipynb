{
 "cells": [
  {
   "cell_type": "code",
   "execution_count": 74,
   "metadata": {},
   "outputs": [],
   "source": [
    "import numpy as np\n",
    "import pandas as pd\n",
    "import matplotlib.pyplot as plt\n",
    "import matplotlib\n",
    "import seaborn as sns\n",
    "import statsmodels.api as sm\n",
    "import scipy.stats as stats\n",
    "from sklearn.model_selection import train_test_split\n",
    "from sklearn.preprocessing import StandardScaler\n",
    "from sklearn.preprocessing import OneHotEncoder\n",
    "from sklearn.feature_selection import SelectKBest, f_classif\n",
    "from sklearn.ensemble import RandomForestClassifier\n",
    "from sklearn.tree import export_graphviz\n",
    "from sklearn.metrics import accuracy_score, precision_score, recall_score, f1_score, roc_curve, roc_auc_score, confusion_matrix\n",
    "from imblearn.over_sampling import SMOTE\n",
    "from sklearn.utils import resample\n",
    "from sklearn.tree import DecisionTreeClassifier\n",
    "from sklearn.linear_model import LogisticRegression\n",
    "import os\n",
    "from IPython import display\n",
    "from sklearn import tree"
   ]
  },
  {
   "cell_type": "code",
   "execution_count": 6,
   "metadata": {},
   "outputs": [
    {
     "name": "stdout",
     "output_type": "stream",
     "text": [
      "D:\\FTI Consulting\n"
     ]
    }
   ],
   "source": [
    "cd D:/FTI Consulting"
   ]
  },
  {
   "cell_type": "code",
   "execution_count": 7,
   "metadata": {},
   "outputs": [
    {
     "data": {
      "text/html": [
       "<div>\n",
       "<style scoped>\n",
       "    .dataframe tbody tr th:only-of-type {\n",
       "        vertical-align: middle;\n",
       "    }\n",
       "\n",
       "    .dataframe tbody tr th {\n",
       "        vertical-align: top;\n",
       "    }\n",
       "\n",
       "    .dataframe thead th {\n",
       "        text-align: right;\n",
       "    }\n",
       "</style>\n",
       "<table border=\"1\" class=\"dataframe\">\n",
       "  <thead>\n",
       "    <tr style=\"text-align: right;\">\n",
       "      <th></th>\n",
       "      <th>accountNumber</th>\n",
       "      <th>accountOpenDate</th>\n",
       "      <th>acqCountry</th>\n",
       "      <th>availableMoney</th>\n",
       "      <th>cardCVV</th>\n",
       "      <th>cardLast4Digits</th>\n",
       "      <th>cardPresent</th>\n",
       "      <th>creditLimit</th>\n",
       "      <th>currentBalance</th>\n",
       "      <th>currentExpDate</th>\n",
       "      <th>...</th>\n",
       "      <th>merchantName</th>\n",
       "      <th>merchantState</th>\n",
       "      <th>merchantZip</th>\n",
       "      <th>posConditionCode</th>\n",
       "      <th>posEntryMode</th>\n",
       "      <th>posOnPremises</th>\n",
       "      <th>recurringAuthInd</th>\n",
       "      <th>transactionAmount</th>\n",
       "      <th>transactionDateTime</th>\n",
       "      <th>transactionType</th>\n",
       "    </tr>\n",
       "  </thead>\n",
       "  <tbody>\n",
       "    <tr>\n",
       "      <th>0</th>\n",
       "      <td>737265056</td>\n",
       "      <td>2015-03-14</td>\n",
       "      <td>US</td>\n",
       "      <td>5000.0</td>\n",
       "      <td>414</td>\n",
       "      <td>1803</td>\n",
       "      <td>False</td>\n",
       "      <td>5000</td>\n",
       "      <td>0.0</td>\n",
       "      <td>2023-06-01</td>\n",
       "      <td>...</td>\n",
       "      <td>Uber</td>\n",
       "      <td></td>\n",
       "      <td></td>\n",
       "      <td>01</td>\n",
       "      <td>02</td>\n",
       "      <td></td>\n",
       "      <td></td>\n",
       "      <td>98.55</td>\n",
       "      <td>2016-08-13 14:27:32</td>\n",
       "      <td>PURCHASE</td>\n",
       "    </tr>\n",
       "    <tr>\n",
       "      <th>1</th>\n",
       "      <td>737265056</td>\n",
       "      <td>2015-03-14</td>\n",
       "      <td>US</td>\n",
       "      <td>5000.0</td>\n",
       "      <td>486</td>\n",
       "      <td>767</td>\n",
       "      <td>True</td>\n",
       "      <td>5000</td>\n",
       "      <td>0.0</td>\n",
       "      <td>2024-02-01</td>\n",
       "      <td>...</td>\n",
       "      <td>AMC #191138</td>\n",
       "      <td></td>\n",
       "      <td></td>\n",
       "      <td>01</td>\n",
       "      <td>09</td>\n",
       "      <td></td>\n",
       "      <td></td>\n",
       "      <td>74.51</td>\n",
       "      <td>2016-10-11 05:05:54</td>\n",
       "      <td>PURCHASE</td>\n",
       "    </tr>\n",
       "    <tr>\n",
       "      <th>2</th>\n",
       "      <td>737265056</td>\n",
       "      <td>2015-03-14</td>\n",
       "      <td>US</td>\n",
       "      <td>5000.0</td>\n",
       "      <td>486</td>\n",
       "      <td>767</td>\n",
       "      <td>False</td>\n",
       "      <td>5000</td>\n",
       "      <td>0.0</td>\n",
       "      <td>2025-08-01</td>\n",
       "      <td>...</td>\n",
       "      <td>Play Store</td>\n",
       "      <td></td>\n",
       "      <td></td>\n",
       "      <td>01</td>\n",
       "      <td>09</td>\n",
       "      <td></td>\n",
       "      <td></td>\n",
       "      <td>7.47</td>\n",
       "      <td>2016-11-08 09:18:39</td>\n",
       "      <td>PURCHASE</td>\n",
       "    </tr>\n",
       "    <tr>\n",
       "      <th>3</th>\n",
       "      <td>737265056</td>\n",
       "      <td>2015-03-14</td>\n",
       "      <td>US</td>\n",
       "      <td>5000.0</td>\n",
       "      <td>486</td>\n",
       "      <td>767</td>\n",
       "      <td>False</td>\n",
       "      <td>5000</td>\n",
       "      <td>0.0</td>\n",
       "      <td>2025-08-01</td>\n",
       "      <td>...</td>\n",
       "      <td>Play Store</td>\n",
       "      <td></td>\n",
       "      <td></td>\n",
       "      <td>01</td>\n",
       "      <td>09</td>\n",
       "      <td></td>\n",
       "      <td></td>\n",
       "      <td>7.47</td>\n",
       "      <td>2016-12-10 02:14:50</td>\n",
       "      <td>PURCHASE</td>\n",
       "    </tr>\n",
       "    <tr>\n",
       "      <th>4</th>\n",
       "      <td>830329091</td>\n",
       "      <td>2015-08-06</td>\n",
       "      <td>US</td>\n",
       "      <td>5000.0</td>\n",
       "      <td>885</td>\n",
       "      <td>3143</td>\n",
       "      <td>True</td>\n",
       "      <td>5000</td>\n",
       "      <td>0.0</td>\n",
       "      <td>2029-10-01</td>\n",
       "      <td>...</td>\n",
       "      <td>Tim Hortons #947751</td>\n",
       "      <td></td>\n",
       "      <td></td>\n",
       "      <td>01</td>\n",
       "      <td>02</td>\n",
       "      <td></td>\n",
       "      <td></td>\n",
       "      <td>71.18</td>\n",
       "      <td>2016-03-24 21:04:46</td>\n",
       "      <td>PURCHASE</td>\n",
       "    </tr>\n",
       "  </tbody>\n",
       "</table>\n",
       "<p>5 rows × 29 columns</p>\n",
       "</div>"
      ],
      "text/plain": [
       "   accountNumber accountOpenDate acqCountry  availableMoney  cardCVV  \\\n",
       "0      737265056      2015-03-14         US          5000.0      414   \n",
       "1      737265056      2015-03-14         US          5000.0      486   \n",
       "2      737265056      2015-03-14         US          5000.0      486   \n",
       "3      737265056      2015-03-14         US          5000.0      486   \n",
       "4      830329091      2015-08-06         US          5000.0      885   \n",
       "\n",
       "   cardLast4Digits  cardPresent  creditLimit  currentBalance currentExpDate  \\\n",
       "0             1803        False         5000             0.0     2023-06-01   \n",
       "1              767         True         5000             0.0     2024-02-01   \n",
       "2              767        False         5000             0.0     2025-08-01   \n",
       "3              767        False         5000             0.0     2025-08-01   \n",
       "4             3143         True         5000             0.0     2029-10-01   \n",
       "\n",
       "   ...         merchantName merchantState merchantZip  posConditionCode  \\\n",
       "0  ...                 Uber                                          01   \n",
       "1  ...          AMC #191138                                          01   \n",
       "2  ...           Play Store                                          01   \n",
       "3  ...           Play Store                                          01   \n",
       "4  ...  Tim Hortons #947751                                          01   \n",
       "\n",
       "   posEntryMode  posOnPremises recurringAuthInd transactionAmount  \\\n",
       "0            02                                             98.55   \n",
       "1            09                                             74.51   \n",
       "2            09                                              7.47   \n",
       "3            09                                              7.47   \n",
       "4            02                                             71.18   \n",
       "\n",
       "  transactionDateTime transactionType  \n",
       "0 2016-08-13 14:27:32        PURCHASE  \n",
       "1 2016-10-11 05:05:54        PURCHASE  \n",
       "2 2016-11-08 09:18:39        PURCHASE  \n",
       "3 2016-12-10 02:14:50        PURCHASE  \n",
       "4 2016-03-24 21:04:46        PURCHASE  \n",
       "\n",
       "[5 rows x 29 columns]"
      ]
     },
     "execution_count": 7,
     "metadata": {},
     "output_type": "execute_result"
    }
   ],
   "source": [
    "# read as pandas dataframe object, parse date columns while reading\n",
    "transact_raw_df = pd.read_json(open(\"transactions.txt\"), lines=True, dtype=True, convert_dates=['accountOpenDate', 'currentExpDate', 'dateOfLastAddressChange', 'transactionDateTime'])\n",
    "transact_raw_df.head()"
   ]
  },
  {
   "cell_type": "markdown",
   "metadata": {},
   "source": [
    "# Data Analysis"
   ]
  },
  {
   "cell_type": "code",
   "execution_count": 8,
   "metadata": {},
   "outputs": [],
   "source": [
    "# Create a copy of the raw data for manipulation\n",
    "transact_df = transact_raw_df.copy()"
   ]
  },
  {
   "cell_type": "code",
   "execution_count": 9,
   "metadata": {},
   "outputs": [],
   "source": [
    "# Replace whitespace in data with NaN values\n",
    "transact_df = transact_df.replace('', np.nan, regex=True)"
   ]
  },
  {
   "cell_type": "code",
   "execution_count": 10,
   "metadata": {},
   "outputs": [
    {
     "name": "stdout",
     "output_type": "stream",
     "text": [
      "The dataset has 786363 records with 29 fields.\n"
     ]
    }
   ],
   "source": [
    "print(\"The dataset has {} records with {} fields.\".format(*transact_df.shape))"
   ]
  },
  {
   "cell_type": "code",
   "execution_count": 11,
   "metadata": {},
   "outputs": [
    {
     "data": {
      "text/plain": [
       "Index(['accountNumber', 'accountOpenDate', 'acqCountry', 'availableMoney',\n",
       "       'cardCVV', 'cardLast4Digits', 'cardPresent', 'creditLimit',\n",
       "       'currentBalance', 'currentExpDate', 'customerId',\n",
       "       'dateOfLastAddressChange', 'echoBuffer', 'enteredCVV',\n",
       "       'expirationDateKeyInMatch', 'isFraud', 'merchantCategoryCode',\n",
       "       'merchantCity', 'merchantCountryCode', 'merchantName', 'merchantState',\n",
       "       'merchantZip', 'posConditionCode', 'posEntryMode', 'posOnPremises',\n",
       "       'recurringAuthInd', 'transactionAmount', 'transactionDateTime',\n",
       "       'transactionType'],\n",
       "      dtype='object')"
      ]
     },
     "execution_count": 11,
     "metadata": {},
     "output_type": "execute_result"
    }
   ],
   "source": [
    "# Columns in the dataset\n",
    "transact_df.columns"
   ]
  },
  {
   "cell_type": "code",
   "execution_count": 12,
   "metadata": {},
   "outputs": [
    {
     "name": "stdout",
     "output_type": "stream",
     "text": [
      "<class 'pandas.core.frame.DataFrame'>\n",
      "RangeIndex: 786363 entries, 0 to 786362\n",
      "Data columns (total 29 columns):\n",
      "accountNumber               786363 non-null int64\n",
      "accountOpenDate             786363 non-null datetime64[ns]\n",
      "acqCountry                  781801 non-null object\n",
      "availableMoney              786363 non-null float64\n",
      "cardCVV                     786363 non-null int64\n",
      "cardLast4Digits             786363 non-null int64\n",
      "cardPresent                 786363 non-null bool\n",
      "creditLimit                 786363 non-null int64\n",
      "currentBalance              786363 non-null float64\n",
      "currentExpDate              786363 non-null datetime64[ns]\n",
      "customerId                  786363 non-null int64\n",
      "dateOfLastAddressChange     786363 non-null datetime64[ns]\n",
      "echoBuffer                  0 non-null float64\n",
      "enteredCVV                  786363 non-null int64\n",
      "expirationDateKeyInMatch    786363 non-null bool\n",
      "isFraud                     786363 non-null bool\n",
      "merchantCategoryCode        786363 non-null object\n",
      "merchantCity                0 non-null float64\n",
      "merchantCountryCode         785639 non-null object\n",
      "merchantName                786363 non-null object\n",
      "merchantState               0 non-null float64\n",
      "merchantZip                 0 non-null float64\n",
      "posConditionCode            785954 non-null object\n",
      "posEntryMode                782309 non-null object\n",
      "posOnPremises               0 non-null float64\n",
      "recurringAuthInd            0 non-null float64\n",
      "transactionAmount           786363 non-null float64\n",
      "transactionDateTime         786363 non-null datetime64[ns]\n",
      "transactionType             785665 non-null object\n",
      "dtypes: bool(3), datetime64[ns](4), float64(9), int64(6), object(7)\n",
      "memory usage: 158.2+ MB\n"
     ]
    }
   ],
   "source": [
    "# Index, Datatype and Memory information\n",
    "transact_df.info()"
   ]
  },
  {
   "cell_type": "code",
   "execution_count": 13,
   "metadata": {},
   "outputs": [
    {
     "data": {
      "text/plain": [
       "accountNumber                    0\n",
       "accountOpenDate                  0\n",
       "acqCountry                    4562\n",
       "availableMoney                   0\n",
       "cardCVV                          0\n",
       "cardLast4Digits                  0\n",
       "cardPresent                      0\n",
       "creditLimit                      0\n",
       "currentBalance                   0\n",
       "currentExpDate                   0\n",
       "customerId                       0\n",
       "dateOfLastAddressChange          0\n",
       "echoBuffer                  786363\n",
       "enteredCVV                       0\n",
       "expirationDateKeyInMatch         0\n",
       "isFraud                          0\n",
       "merchantCategoryCode             0\n",
       "merchantCity                786363\n",
       "merchantCountryCode            724\n",
       "merchantName                     0\n",
       "merchantState               786363\n",
       "merchantZip                 786363\n",
       "posConditionCode               409\n",
       "posEntryMode                  4054\n",
       "posOnPremises               786363\n",
       "recurringAuthInd            786363\n",
       "transactionAmount                0\n",
       "transactionDateTime              0\n",
       "transactionType                698\n",
       "dtype: int64"
      ]
     },
     "execution_count": 13,
     "metadata": {},
     "output_type": "execute_result"
    }
   ],
   "source": [
    "#Column wise count of null values\n",
    "transact_df.isnull().sum()"
   ]
  },
  {
   "cell_type": "code",
   "execution_count": 14,
   "metadata": {},
   "outputs": [],
   "source": [
    "# drop null columns\n",
    "null_cols = ['echoBuffer', 'merchantCity', 'merchantState', 'merchantZip', 'posOnPremises', 'recurringAuthInd']\n",
    "transact_df.drop(null_cols, axis=1, inplace=True)"
   ]
  },
  {
   "cell_type": "code",
   "execution_count": 15,
   "metadata": {},
   "outputs": [],
   "source": [
    "# Remove duplicate entries \n",
    "acct_df = transact_df[['accountNumber', 'customerId']]\n",
    "acct_df = acct_df.drop_duplicates()"
   ]
  },
  {
   "cell_type": "code",
   "execution_count": 16,
   "metadata": {},
   "outputs": [
    {
     "data": {
      "text/plain": [
       "1    5000\n",
       "Name: customerId, dtype: int64"
      ]
     },
     "execution_count": 16,
     "metadata": {},
     "output_type": "execute_result"
    }
   ],
   "source": [
    "acct_cnt = acct_df.groupby(['accountNumber'])['customerId'].count()\n",
    "acct_cnt.value_counts()"
   ]
  },
  {
   "cell_type": "markdown",
   "metadata": {},
   "source": [
    "There are 5000 unique account numbers/customers in the data. The fields accountNumber and customerId have one-to-one mapping, hence we can use one of them and drop the other. We will drop the customerID column."
   ]
  },
  {
   "cell_type": "code",
   "execution_count": 17,
   "metadata": {},
   "outputs": [],
   "source": [
    "transact_df.drop('customerId', axis=1, inplace=True)"
   ]
  },
  {
   "cell_type": "markdown",
   "metadata": {},
   "source": [
    "### Levels of Data "
   ]
  },
  {
   "cell_type": "code",
   "execution_count": 18,
   "metadata": {},
   "outputs": [
    {
     "name": "stdout",
     "output_type": "stream",
     "text": [
      "The dateset contains transaction level information from 2016-01-01 to 2016-12-30\n"
     ]
    }
   ],
   "source": [
    "print(\"The dateset contains transaction level information from {} to {}\".format(transact_df['transactionDateTime'].dt.date.min(), transact_df['transactionDateTime'].dt.date.max()))"
   ]
  },
  {
   "cell_type": "code",
   "execution_count": 19,
   "metadata": {},
   "outputs": [],
   "source": [
    "transact_df['transactionDate'] = transact_df['transactionDateTime'].dt.date\n",
    "transact_df['transactionTime'] = transact_df['transactionDateTime'].dt.time\n",
    "transact_df['transactionHour'] = transact_df['transactionDateTime'].dt.hour"
   ]
  },
  {
   "cell_type": "markdown",
   "metadata": {},
   "source": [
    "Analysis of transactions with date might reveal interesting spending patterns."
   ]
  },
  {
   "cell_type": "code",
   "execution_count": 20,
   "metadata": {},
   "outputs": [
    {
     "data": {
      "image/png": "[encoded data removed]",
      "text/plain": [
       "<Figure size 1440x576 with 1 Axes>"
      ]
     },
     "metadata": {
      "needs_background": "light"
     },
     "output_type": "display_data"
    }
   ],
   "source": [
    "# Creating a data frame of transcation dates and amounts \n",
    "date_df = transact_df[['transactionDate', 'transactionAmount']]\n",
    "date_df = date_df.sort_values(by='transactionDate')\n",
    "\n",
    "# summing transaction amount at a daily level\n",
    "date_df = date_df.groupby('transactionDate')['transactionAmount'].sum().reset_index()\n",
    "date_df = date_df.set_index('transactionDate')\n",
    "\n",
    "# plotting total daily spending\n",
    "plt.figure(figsize=(20,8))\n",
    "date_df['transactionAmount'].plot(alpha=0.5, marker='.', linestyle='-')\n",
    "plt.title('Total Daily Spending in 2016')\n",
    "plt.ylabel('Total daily spending')\n",
    "plt.xlabel('Month')\n",
    "plt.show()"
   ]
  },
  {
   "cell_type": "markdown",
   "metadata": {},
   "source": [
    "The transaction data shows clear seasonality with average daily transactions increasing around holidays. We can observes spikes in spending amounts in mid-February (Valentine's day), end of March (Easter), mid-May (Mother's day), beginning of June (Father's day), end of October (Halloween), end of November (Thanksgiving) and end of Decemebr (Christmas)."
   ]
  },
  {
   "cell_type": "markdown",
   "metadata": {},
   "source": [
    "### Unique number of credit cards"
   ]
  },
  {
   "cell_type": "code",
   "execution_count": 21,
   "metadata": {},
   "outputs": [
    {
     "name": "stdout",
     "output_type": "stream",
     "text": [
      "There are 5245 unique credit cards available in the dataset\n"
     ]
    }
   ],
   "source": [
    "print(\"There are {} unique credit cards available in the dataset\".format(len(transact_df['cardLast4Digits'].unique())))"
   ]
  },
  {
   "cell_type": "markdown",
   "metadata": {},
   "source": [
    "The number of unique credit cards is higher than the number of unique customers in the data. This implies that some customers have more than one credit card. We can use this information to create a new variable to use in our predictive model"
   ]
  },
  {
   "cell_type": "markdown",
   "metadata": {},
   "source": [
    "### Analysis of continuous variables"
   ]
  },
  {
   "cell_type": "markdown",
   "metadata": {},
   "source": [
    "There are four continuous variables for which we can calculate some summary statistics. We can also plot histograms of these variables to understand their statistical distribution."
   ]
  },
  {
   "cell_type": "code",
   "execution_count": 22,
   "metadata": {},
   "outputs": [
    {
     "name": "stdout",
     "output_type": "stream",
     "text": [
      "Summary statistics for 'availableMoney' variable: \n",
      "\n",
      "count    786363.000000\n",
      "mean       6250.725369\n",
      "std        8880.783989\n",
      "min       -1005.630000\n",
      "25%        1077.420000\n",
      "50%        3184.860000\n",
      "75%        7500.000000\n",
      "max       50000.000000\n",
      "Name: availableMoney, dtype: float64 \n",
      "\n",
      "Summary statistics for 'creditLimit' variable: \n",
      "\n",
      "count    786363.000000\n",
      "mean      10759.464459\n",
      "std       11636.174890\n",
      "min         250.000000\n",
      "25%        5000.000000\n",
      "50%        7500.000000\n",
      "75%       15000.000000\n",
      "max       50000.000000\n",
      "Name: creditLimit, dtype: float64 \n",
      "\n",
      "Summary statistics for 'currentBalance' variable: \n",
      "\n",
      "count    786363.000000\n",
      "mean       4508.739089\n",
      "std        6457.442068\n",
      "min           0.000000\n",
      "25%         689.910000\n",
      "50%        2451.760000\n",
      "75%        5291.095000\n",
      "max       47498.810000\n",
      "Name: currentBalance, dtype: float64 \n",
      "\n",
      "Summary statistics for 'transactionAmount' variable: \n",
      "\n",
      "count    786363.000000\n",
      "mean        136.985791\n",
      "std         147.725569\n",
      "min           0.000000\n",
      "25%          33.650000\n",
      "50%          87.900000\n",
      "75%         191.480000\n",
      "max        2011.540000\n",
      "Name: transactionAmount, dtype: float64 \n",
      "\n"
     ]
    }
   ],
   "source": [
    "continuous =  ['availableMoney', 'creditLimit', 'currentBalance', 'transactionAmount']\n",
    "\n",
    "for col in continuous:\n",
    "    print(\"Summary statistics for '{}' variable:\".format(col), \"\\n\")\n",
    "    print(transact_df[col].describe(), \"\\n\")"
   ]
  },
  {
   "cell_type": "code",
   "execution_count": 23,
   "metadata": {},
   "outputs": [
    {
     "data": {
      "image/png": "[encoded data removed]",
      "text/plain": [
       "<Figure size 1080x720 with 4 Axes>"
      ]
     },
     "metadata": {
      "needs_background": "light"
     },
     "output_type": "display_data"
    }
   ],
   "source": [
    "# Plotting histograms of continuous variables\n",
    "plt.figure(figsize=(15,10))\n",
    "\n",
    "plt.subplot(2,2,1)\n",
    "sns.distplot(transact_df['availableMoney'], kde=False)\n",
    "plt.xticks(rotation=45)\n",
    "\n",
    "plt.subplot(2,2,2)\n",
    "sns.distplot(transact_df['creditLimit'], kde=False)\n",
    "plt.xticks(rotation=45)\n",
    "\n",
    "plt.subplot(2,2,3)\n",
    "sns.distplot(transact_df['currentBalance'], kde=False)\n",
    "plt.xticks(rotation=45)\n",
    "\n",
    "plt.subplot(2,2,4)\n",
    "sns.distplot(transact_df['transactionAmount'], kde=False)\n",
    "plt.xticks(rotation=45)\n",
    "\n",
    "plt.tight_layout()\n",
    "plt.show()"
   ]
  },
  {
   "cell_type": "markdown",
   "metadata": {},
   "source": [
    "### Observations\n",
    "The 4 continuous variables are highly skewed to the right with long tails and do not seem to follow a normal distribution.\n",
    "\n",
    "- The variables 'availableMoney', 'currentBalance' and 'transactionAmount' seem to follow an exponential distribution\n",
    "- The variable 'creditLimit' is multimodal with distinct peaks"
   ]
  },
  {
   "cell_type": "markdown",
   "metadata": {},
   "source": [
    "### Analyzing categorical variables¶"
   ]
  },
  {
   "cell_type": "markdown",
   "metadata": {},
   "source": [
    "There are 10 categorical variables in the data for which we can calculate the value counts and plot the frequency distribution."
   ]
  },
  {
   "cell_type": "code",
   "execution_count": 24,
   "metadata": {},
   "outputs": [],
   "source": [
    "# Utility function to calculate the distribution and visualize a categorical variable\n",
    "def plot_cat(df, col):\n",
    "    col_dist = df[col].value_counts()\n",
    "    \n",
    "    print(\"Value counts of '{}' variable:\".format(col), '\\n')\n",
    "    print(col_dist, '\\n')\n",
    "\n",
    "    plt.figure(figsize=(25,6))\n",
    "    col_dist.plot(kind='barh')\n",
    "    plt.title(\"Distribution of '{}' variable\".format(col))\n",
    "    plt.xlabel(\"Frequency\")\n",
    "    plt.ylabel(\"{}\".format(col))\n",
    "    plt.xticks(rotation=45)\n",
    "    plt.show()"
   ]
  },
  {
   "cell_type": "code",
   "execution_count": 25,
   "metadata": {},
   "outputs": [
    {
     "name": "stdout",
     "output_type": "stream",
     "text": [
      "Value counts of 'isFraud' variable: \n",
      "\n",
      "False    773946\n",
      "True      12417\n",
      "Name: isFraud, dtype: int64 \n",
      "\n"
     ]
    },
    {
     "data": {
      "image/png": "[encoded data removed]",
      "text/plain": [
       "<Figure size 1800x432 with 1 Axes>"
      ]
     },
     "metadata": {
      "needs_background": "light"
     },
     "output_type": "display_data"
    }
   ],
   "source": [
    "plot_cat(transact_df, 'isFraud')"
   ]
  },
  {
   "cell_type": "markdown",
   "metadata": {},
   "source": [
    "Highly imbalanced data with event rate of 1.5%"
   ]
  },
  {
   "cell_type": "code",
   "execution_count": 26,
   "metadata": {
    "scrolled": true
   },
   "outputs": [
    {
     "name": "stdout",
     "output_type": "stream",
     "text": [
      "Value counts of 'merchantCategoryCode' variable: \n",
      "\n",
      "online_retail           202156\n",
      "fastfood                112138\n",
      "entertainment            80098\n",
      "food                     75490\n",
      "online_gifts             66238\n",
      "rideshare                51136\n",
      "hotels                   34097\n",
      "fuel                     23910\n",
      "subscriptions            22901\n",
      "auto                     21651\n",
      "health                   19092\n",
      "personal care            18964\n",
      "airline                  15412\n",
      "mobileapps               14990\n",
      "online_subscriptions     11067\n",
      "furniture                 7432\n",
      "food_delivery             6000\n",
      "gym                       2209\n",
      "cable/phone               1382\n",
      "Name: merchantCategoryCode, dtype: int64 \n",
      "\n"
     ]
    },
    {
     "data": {
      "image/png": "[encoded data removed]",
      "text/plain": [
       "<Figure size 1800x432 with 1 Axes>"
      ]
     },
     "metadata": {
      "needs_background": "light"
     },
     "output_type": "display_data"
    }
   ],
   "source": [
    "plot_cat(transact_df, 'merchantCategoryCode')"
   ]
  },
  {
   "cell_type": "code",
   "execution_count": 27,
   "metadata": {},
   "outputs": [
    {
     "data": {
      "text/plain": [
       "0     202156\n",
       "1     112138\n",
       "2      80098\n",
       "3      75490\n",
       "4      66238\n",
       "5      51136\n",
       "6      34097\n",
       "7      23910\n",
       "8      22901\n",
       "9      21651\n",
       "10     19092\n",
       "11     18964\n",
       "12     15412\n",
       "13     14990\n",
       "14     11067\n",
       "15      7432\n",
       "16      6000\n",
       "17      2209\n",
       "18      1382\n",
       "Name: merchantCategoryCode, dtype: int64"
      ]
     },
     "execution_count": 27,
     "metadata": {},
     "output_type": "execute_result"
    }
   ],
   "source": [
    "transact_df['merchantCategoryCode'].value_counts().reset_index(drop=True)"
   ]
  },
  {
   "cell_type": "markdown",
   "metadata": {},
   "source": [
    "The largest number of transactions correspond to online retail merchants followed by fastfood and entertainment."
   ]
  },
  {
   "cell_type": "code",
   "execution_count": 28,
   "metadata": {},
   "outputs": [
    {
     "name": "stdout",
     "output_type": "stream",
     "text": [
      "Value counts of 'transactionType' variable: \n",
      "\n",
      "PURCHASE                745193\n",
      "REVERSAL                 20303\n",
      "ADDRESS_VERIFICATION     20169\n",
      "Name: transactionType, dtype: int64 \n",
      "\n"
     ]
    },
    {
     "data": {
      "image/png": "[encoded data removed]",
      "text/plain": [
       "<Figure size 1800x432 with 1 Axes>"
      ]
     },
     "metadata": {
      "needs_background": "light"
     },
     "output_type": "display_data"
    }
   ],
   "source": [
    "plot_cat(transact_df, 'transactionType')"
   ]
  },
  {
   "cell_type": "markdown",
   "metadata": {},
   "source": [
    "The majority of transactions are of type Purchase."
   ]
  },
  {
   "cell_type": "markdown",
   "metadata": {},
   "source": [
    "### Merchants\n",
    "Since the dataset is at a transaction level, the variable 'merchantName' would have numerous unique values and visualizing it would be difficult. Instead, we can obtain a count of the unique merchants available in the dataset."
   ]
  },
  {
   "cell_type": "code",
   "execution_count": 29,
   "metadata": {},
   "outputs": [
    {
     "name": "stdout",
     "output_type": "stream",
     "text": [
      "There are 2490 unique merchants available in the dataset.\n"
     ]
    }
   ],
   "source": [
    "print(\"There are {} unique merchants available in the dataset.\".format(len(transact_df['merchantName'].unique())))"
   ]
  },
  {
   "cell_type": "markdown",
   "metadata": {},
   "source": [
    "### Date variables\n",
    "We can use the 'accountOpenDate' variable to calculate the number of accounts opened per year."
   ]
  },
  {
   "cell_type": "code",
   "execution_count": 30,
   "metadata": {},
   "outputs": [
    {
     "data": {
      "image/png": "[encoded data removed]",
      "text/plain": [
       "<Figure size 864x576 with 1 Axes>"
      ]
     },
     "metadata": {
      "needs_background": "light"
     },
     "output_type": "display_data"
    }
   ],
   "source": [
    "transact_df['accountOpenYear'] = transact_df['accountOpenDate'].dt.year\n",
    "\n",
    "# Roll up account numbers by year of opening\n",
    "open_df = transact_df[['accountNumber', 'accountOpenYear']]\n",
    "open_df = open_df.drop_duplicates()\n",
    "open_df = open_df.sort_values(by=['accountOpenYear'], ascending=True)\n",
    "\n",
    "#Plot the distribution of accounts opened per year\n",
    "plt.figure(figsize=(12,8))\n",
    "sns.distplot(open_df['accountOpenYear'], kde=False)\n",
    "plt.title('Distribution of accounts opened per year')\n",
    "plt.ylabel('Number of accounts opened per year')\n",
    "plt.xlabel('Year')\n",
    "plt.xticks(rotation=45)\n",
    "plt.show()"
   ]
  },
  {
   "cell_type": "markdown",
   "metadata": {},
   "source": [
    "The number of originations (accounts opened per year) has clearly increased exponentially post 2010."
   ]
  },
  {
   "cell_type": "markdown",
   "metadata": {},
   "source": [
    "### CVV\n",
    "There are two CVV variables 'cardCVV' and 'enteredCVV' which on their own do not provide any interesting information. We can see if there are cases where there is a mismatch between the CVV fields. We will later use this variable as a feature in our predictive model"
   ]
  },
  {
   "cell_type": "code",
   "execution_count": 31,
   "metadata": {},
   "outputs": [],
   "source": [
    "# Create CVV mismatch flag\n",
    "transact_df.loc[transact_df['cardCVV'] == transact_df['enteredCVV'], 'CVV_mismatch'] = 0\n",
    "transact_df.loc[transact_df['cardCVV'] != transact_df['enteredCVV'], 'CVV_mismatch'] = 1"
   ]
  },
  {
   "cell_type": "code",
   "execution_count": 32,
   "metadata": {},
   "outputs": [
    {
     "data": {
      "text/plain": [
       "0.0    779348\n",
       "1.0      7015\n",
       "Name: CVV_mismatch, dtype: int64"
      ]
     },
     "execution_count": 32,
     "metadata": {},
     "output_type": "execute_result"
    }
   ],
   "source": [
    "transact_df['CVV_mismatch'].value_counts()"
   ]
  },
  {
   "cell_type": "code",
   "execution_count": 33,
   "metadata": {},
   "outputs": [
    {
     "name": "stdout",
     "output_type": "stream",
     "text": [
      "Total transaction amount for transactions with CVV mismatch is $ 953,301.86\n"
     ]
    }
   ],
   "source": [
    "CVV_amt = transact_df.groupby(['CVV_mismatch'])[['transactionAmount']].sum().reset_index()\n",
    "print(\"Total transaction amount for transactions with CVV mismatch is $ {:,.2f}\".format(CVV_amt.loc[CVV_amt['CVV_mismatch']==1, 'transactionAmount'][1]))"
   ]
  },
  {
   "cell_type": "markdown",
   "metadata": {},
   "source": [
    "This is a quite an unexpected amount. However, there are merchants who process transactions even when there is a CVV mismatch (using information such as billing adress to authorize the transaction). So we need further analyis/data to draw any strong conclusions from this finding."
   ]
  },
  {
   "cell_type": "markdown",
   "metadata": {},
   "source": [
    "To identify the duplicate transactions, I have created a subset of the data with the records rolled up at a level combining the fields accountNumber, merchantName, merchantCountryCode and transactionAmount. The idea is to capture all repeated transactions for an account number which has the same transaction amount for the same merchant in the same country."
   ]
  },
  {
   "cell_type": "code",
   "execution_count": 34,
   "metadata": {},
   "outputs": [],
   "source": [
    "# Create a subset of the data with the required columns\n",
    "cols = ['accountNumber', 'merchantName', 'merchantCountryCode', 'transactionAmount', 'transactionType', 'transactionDateTime', 'transactionDate', 'transactionTime', 'transactionHour']\n",
    "subset_df = transact_df[cols]\n",
    "\n",
    "# Sort\n",
    "subset_df = subset_df.sort_values(['accountNumber', 'merchantName', 'merchantCountryCode', 'transactionAmount', 'transactionDateTime']).reset_index(drop=True)\n",
    "\n",
    "# filter out duplicate transactions\n",
    "duplicate_df = subset_df[subset_df.duplicated(['accountNumber', 'merchantName', 'merchantCountryCode', 'transactionAmount'], keep=False)]"
   ]
  },
  {
   "cell_type": "code",
   "execution_count": 35,
   "metadata": {},
   "outputs": [],
   "source": [
    "# Identify reversed transactions\n",
    "reversal = duplicate_df[duplicate_df['transactionType'] == 'REVERSAL']"
   ]
  },
  {
   "cell_type": "markdown",
   "metadata": {},
   "source": [
    "Multi-swipe transactions happen in the case of PURCHASE transactions. Hence, we can extract the records corresponding to purchase transactions and look for duplicated records. The idea is to capture all repeated transactions for an account number which has the same transaction amount for the same merchant in the same country done on the same date during the same hour.\n",
    "\n"
   ]
  },
  {
   "cell_type": "code",
   "execution_count": 36,
   "metadata": {},
   "outputs": [],
   "source": [
    "# Identify multi-swipe transactions\n",
    "purchase_df = subset_df[subset_df['transactionType'] == 'PURCHASE']\n",
    "dup_purchase_df = purchase_df[purchase_df.duplicated(['accountNumber', 'merchantName', 'merchantCountryCode', 'transactionAmount', 'transactionDate', 'transactionHour'])]"
   ]
  },
  {
   "cell_type": "code",
   "execution_count": 37,
   "metadata": {},
   "outputs": [
    {
     "name": "stdout",
     "output_type": "stream",
     "text": [
      "There are 18363 transactions corresponding to reversed transactions.\n"
     ]
    }
   ],
   "source": [
    "print('There are {} transactions corresponding to reversed transactions.'.format(reversal.shape[0]))"
   ]
  },
  {
   "cell_type": "code",
   "execution_count": 38,
   "metadata": {},
   "outputs": [
    {
     "name": "stdout",
     "output_type": "stream",
     "text": [
      "Total dollar amount from reversed transactions is $ 2,670,166.29.\n"
     ]
    }
   ],
   "source": [
    "print('Total dollar amount from reversed transactions is $ {:,.2f}.'.format(round(reversal['transactionAmount'].sum(), 2)))"
   ]
  },
  {
   "cell_type": "code",
   "execution_count": 39,
   "metadata": {},
   "outputs": [
    {
     "name": "stdout",
     "output_type": "stream",
     "text": [
      "There are 7249 transactions corresponding to multi-swipe transactions.\n"
     ]
    }
   ],
   "source": [
    "print('There are {} transactions corresponding to multi-swipe transactions.'.format(dup_purchase_df.shape[0]))"
   ]
  },
  {
   "cell_type": "code",
   "execution_count": 40,
   "metadata": {},
   "outputs": [
    {
     "name": "stdout",
     "output_type": "stream",
     "text": [
      "Total dollar amount from multi-swipe transactions is $ 1,075,506.80.\n"
     ]
    }
   ],
   "source": [
    "print('Total dollar amount from multi-swipe transactions is $ {:,.2f}.'.format(round(dup_purchase_df['transactionAmount'].sum(), 2)))"
   ]
  },
  {
   "cell_type": "code",
   "execution_count": 41,
   "metadata": {},
   "outputs": [],
   "source": [
    "# Dollar value of reversed transactions at merchant level\n",
    "reversal_merchant = reversal.groupby(['merchantName'])[['transactionAmount']].sum()\n",
    "reversal_merchant.reset_index(level=0, inplace=True) #resetting index\n",
    "\n",
    "# Sort in descending order of total transaction amount\n",
    "reversal_merchant = reversal_merchant.sort_values(['transactionAmount'], ascending=False).reset_index(drop=True)"
   ]
  },
  {
   "cell_type": "code",
   "execution_count": 42,
   "metadata": {},
   "outputs": [
    {
     "data": {
      "text/html": [
       "<div>\n",
       "<style scoped>\n",
       "    .dataframe tbody tr th:only-of-type {\n",
       "        vertical-align: middle;\n",
       "    }\n",
       "\n",
       "    .dataframe tbody tr th {\n",
       "        vertical-align: top;\n",
       "    }\n",
       "\n",
       "    .dataframe thead th {\n",
       "        text-align: right;\n",
       "    }\n",
       "</style>\n",
       "<table border=\"1\" class=\"dataframe\">\n",
       "  <thead>\n",
       "    <tr style=\"text-align: right;\">\n",
       "      <th></th>\n",
       "      <th>merchantName</th>\n",
       "      <th>transactionAmount</th>\n",
       "    </tr>\n",
       "  </thead>\n",
       "  <tbody>\n",
       "    <tr>\n",
       "      <th>0</th>\n",
       "      <td>Uber</td>\n",
       "      <td>98243.39</td>\n",
       "    </tr>\n",
       "    <tr>\n",
       "      <th>1</th>\n",
       "      <td>Lyft</td>\n",
       "      <td>91791.89</td>\n",
       "    </tr>\n",
       "    <tr>\n",
       "      <th>2</th>\n",
       "      <td>gap.com</td>\n",
       "      <td>66192.22</td>\n",
       "    </tr>\n",
       "    <tr>\n",
       "      <th>3</th>\n",
       "      <td>alibaba.com</td>\n",
       "      <td>63691.11</td>\n",
       "    </tr>\n",
       "    <tr>\n",
       "      <th>4</th>\n",
       "      <td>ebay.com</td>\n",
       "      <td>63527.74</td>\n",
       "    </tr>\n",
       "    <tr>\n",
       "      <th>5</th>\n",
       "      <td>target.com</td>\n",
       "      <td>61770.49</td>\n",
       "    </tr>\n",
       "    <tr>\n",
       "      <th>6</th>\n",
       "      <td>apple.com</td>\n",
       "      <td>60825.16</td>\n",
       "    </tr>\n",
       "    <tr>\n",
       "      <th>7</th>\n",
       "      <td>staples.com</td>\n",
       "      <td>59231.67</td>\n",
       "    </tr>\n",
       "    <tr>\n",
       "      <th>8</th>\n",
       "      <td>walmart.com</td>\n",
       "      <td>57253.38</td>\n",
       "    </tr>\n",
       "    <tr>\n",
       "      <th>9</th>\n",
       "      <td>sears.com</td>\n",
       "      <td>57017.44</td>\n",
       "    </tr>\n",
       "  </tbody>\n",
       "</table>\n",
       "</div>"
      ],
      "text/plain": [
       "  merchantName  transactionAmount\n",
       "0         Uber           98243.39\n",
       "1         Lyft           91791.89\n",
       "2      gap.com           66192.22\n",
       "3  alibaba.com           63691.11\n",
       "4     ebay.com           63527.74\n",
       "5   target.com           61770.49\n",
       "6    apple.com           60825.16\n",
       "7  staples.com           59231.67\n",
       "8  walmart.com           57253.38\n",
       "9    sears.com           57017.44"
      ]
     },
     "execution_count": 42,
     "metadata": {},
     "output_type": "execute_result"
    }
   ],
   "source": [
    "reversal_merchant.head(10)"
   ]
  },
  {
   "cell_type": "markdown",
   "metadata": {},
   "source": [
    "The highest dollar value of reversed transactions seem to come from rideshare services like Uber and Lyft (arising from ride cancellations) and e-commerce websites like gap.com. alibaba.com, ebay.com etc (arising from returned purchases)."
   ]
  },
  {
   "cell_type": "code",
   "execution_count": 43,
   "metadata": {},
   "outputs": [],
   "source": [
    "# Dollar value of multi-swipe transactions at merchant level\n",
    "multi_swipe_merchant = dup_purchase_df.groupby(['merchantName'])[['transactionAmount']].sum()\n",
    "multi_swipe_merchant.reset_index(level=0, inplace=True) #resetting index\n",
    "\n",
    "# Sort in descending order of total transaction amount\n",
    "multi_swipe_merchant = multi_swipe_merchant.sort_values(['transactionAmount'], ascending=False).reset_index(drop=True)"
   ]
  },
  {
   "cell_type": "code",
   "execution_count": 44,
   "metadata": {},
   "outputs": [
    {
     "data": {
      "text/html": [
       "<div>\n",
       "<style scoped>\n",
       "    .dataframe tbody tr th:only-of-type {\n",
       "        vertical-align: middle;\n",
       "    }\n",
       "\n",
       "    .dataframe tbody tr th {\n",
       "        vertical-align: top;\n",
       "    }\n",
       "\n",
       "    .dataframe thead th {\n",
       "        text-align: right;\n",
       "    }\n",
       "</style>\n",
       "<table border=\"1\" class=\"dataframe\">\n",
       "  <thead>\n",
       "    <tr style=\"text-align: right;\">\n",
       "      <th></th>\n",
       "      <th>merchantName</th>\n",
       "      <th>transactionAmount</th>\n",
       "    </tr>\n",
       "  </thead>\n",
       "  <tbody>\n",
       "    <tr>\n",
       "      <th>0</th>\n",
       "      <td>Uber</td>\n",
       "      <td>42395.11</td>\n",
       "    </tr>\n",
       "    <tr>\n",
       "      <th>1</th>\n",
       "      <td>Lyft</td>\n",
       "      <td>36597.92</td>\n",
       "    </tr>\n",
       "    <tr>\n",
       "      <th>2</th>\n",
       "      <td>alibaba.com</td>\n",
       "      <td>28842.24</td>\n",
       "    </tr>\n",
       "    <tr>\n",
       "      <th>3</th>\n",
       "      <td>sears.com</td>\n",
       "      <td>28624.67</td>\n",
       "    </tr>\n",
       "    <tr>\n",
       "      <th>4</th>\n",
       "      <td>oldnavy.com</td>\n",
       "      <td>27939.46</td>\n",
       "    </tr>\n",
       "    <tr>\n",
       "      <th>5</th>\n",
       "      <td>ebay.com</td>\n",
       "      <td>26438.16</td>\n",
       "    </tr>\n",
       "    <tr>\n",
       "      <th>6</th>\n",
       "      <td>gap.com</td>\n",
       "      <td>25919.68</td>\n",
       "    </tr>\n",
       "    <tr>\n",
       "      <th>7</th>\n",
       "      <td>apple.com</td>\n",
       "      <td>24970.37</td>\n",
       "    </tr>\n",
       "    <tr>\n",
       "      <th>8</th>\n",
       "      <td>staples.com</td>\n",
       "      <td>24715.63</td>\n",
       "    </tr>\n",
       "    <tr>\n",
       "      <th>9</th>\n",
       "      <td>target.com</td>\n",
       "      <td>24242.59</td>\n",
       "    </tr>\n",
       "  </tbody>\n",
       "</table>\n",
       "</div>"
      ],
      "text/plain": [
       "  merchantName  transactionAmount\n",
       "0         Uber           42395.11\n",
       "1         Lyft           36597.92\n",
       "2  alibaba.com           28842.24\n",
       "3    sears.com           28624.67\n",
       "4  oldnavy.com           27939.46\n",
       "5     ebay.com           26438.16\n",
       "6      gap.com           25919.68\n",
       "7    apple.com           24970.37\n",
       "8  staples.com           24715.63\n",
       "9   target.com           24242.59"
      ]
     },
     "execution_count": 44,
     "metadata": {},
     "output_type": "execute_result"
    }
   ],
   "source": [
    "multi_swipe_merchant.head(10)"
   ]
  },
  {
   "cell_type": "markdown",
   "metadata": {},
   "source": [
    "The trend is similar for multi swipe transactions as well. The highest dollar value for multiswipe transactions is contributed by rideshare services like Uber and Lyft (arising from booking multiple rides) and e-commerce websites like gap.com. alibaba.com, ebay.com etc. (arising usually from credit card preauthorization holds). The dollar amount is highest for these merchants due to the sheer volume of people utilizing their services."
   ]
  },
  {
   "cell_type": "markdown",
   "metadata": {},
   "source": [
    "# Model Building"
   ]
  },
  {
   "cell_type": "markdown",
   "metadata": {},
   "source": [
    "### Step 0: Data Cleaning"
   ]
  },
  {
   "cell_type": "markdown",
   "metadata": {},
   "source": [
    "Before modeling, we will drop the records with null values because certain modeling algorithms do not handle null values"
   ]
  },
  {
   "cell_type": "code",
   "execution_count": 45,
   "metadata": {},
   "outputs": [],
   "source": [
    "transact_df.dropna(inplace=True)\n",
    "transact_df.reset_index(drop=True, inplace=True)"
   ]
  },
  {
   "cell_type": "code",
   "execution_count": 46,
   "metadata": {},
   "outputs": [
    {
     "name": "stdout",
     "output_type": "stream",
     "text": [
      "0    764702\n",
      "1     11966\n",
      "Name: isFraud, dtype: int64 \n",
      "\n",
      "0    98.46\n",
      "1     1.54\n",
      "Name: isFraud, dtype: float64\n"
     ]
    }
   ],
   "source": [
    "transact_df['isFraud'] = transact_df['isFraud'].astype(int)\n",
    "\n",
    "print(transact_df['isFraud'].value_counts(), '\\n')\n",
    "print(round(transact_df['isFraud'].value_counts(normalize=True)*100, 2))"
   ]
  },
  {
   "cell_type": "markdown",
   "metadata": {},
   "source": [
    "The data is highly imbalanced with only ~1.5% of our transactions being Fraud transactions and ~98.5% of transactions being NonFraud. Creating a predictive model on imbalanced data would be highly susceptible to overrfitting. Our model will 'assume' most transactions are not fraud which is undesirable. There are two approaches I have considered to address this issue:\n",
    "\n",
    "Upsampling: I have chosen to upsample the data which is a technique that will process the data to have an approximate 50-50 ratio of the label classes by repeatedly sampling (with replacement) from the minority class.\n",
    "Model Evaluation: Metrics like area under the ROC curve and F1 score which measure the classification power (ability to distinguish between classes correctly) of the classifier are prefered to metrics like accuracy since they are more robust to class imbalances."
   ]
  },
  {
   "cell_type": "markdown",
   "metadata": {},
   "source": [
    "### Step 2: Feature Engineering"
   ]
  },
  {
   "cell_type": "markdown",
   "metadata": {},
   "source": [
    "The goal of feature engineering is to create new features by combining existing variables which might provide more information about the target variable."
   ]
  },
  {
   "cell_type": "code",
   "execution_count": 47,
   "metadata": {},
   "outputs": [
    {
     "data": {
      "text/plain": [
       "0.0    769738\n",
       "1.0      6930\n",
       "Name: CVV_mismatch, dtype: int64"
      ]
     },
     "execution_count": 47,
     "metadata": {},
     "output_type": "execute_result"
    }
   ],
   "source": [
    "# Value count of CVV mismatches\n",
    "transact_df['CVV_mismatch'].value_counts()"
   ]
  },
  {
   "cell_type": "code",
   "execution_count": 48,
   "metadata": {},
   "outputs": [
    {
     "data": {
      "image/png": "[encoded data removed]",
      "text/plain": [
       "<Figure size 432x288 with 1 Axes>"
      ]
     },
     "metadata": {
      "needs_background": "light"
     },
     "output_type": "display_data"
    }
   ],
   "source": [
    "# Extract records with CVV mismatches\n",
    "CVV_mismatch = transact_df[(transact_df['CVV_mismatch'] == 1)]\n",
    "\n",
    "# Count of fraudulent transactions for CVV mismatches\n",
    "isFraud_cvv_mismatch = CVV_mismatch['isFraud'].value_counts()\n",
    "\n",
    "# Plot distribution of fraudulent transactions for CVV mismatches \n",
    "isFraud_cvv_mismatch.plot(kind = 'bar')\n",
    "plt.title(\"Fraud Class distribution for CVV mismatches\")\n",
    "plt.xlabel(\"isFraud\")\n",
    "plt.ylabel(\"Frequency\")\n",
    "plt.show()"
   ]
  },
  {
   "cell_type": "code",
   "execution_count": 49,
   "metadata": {},
   "outputs": [
    {
     "data": {
      "text/plain": [
       "0    6732\n",
       "1     198\n",
       "Name: isFraud, dtype: int64"
      ]
     },
     "execution_count": 49,
     "metadata": {},
     "output_type": "execute_result"
    }
   ],
   "source": [
    "# Value count frauds of mismatch cvv\n",
    "CVV_mismatch['isFraud'].value_counts()"
   ]
  },
  {
   "cell_type": "markdown",
   "metadata": {},
   "source": [
    "Majority of the transactions with CVV mismatches are not fraudulent. The event rate increased by 0.5%."
   ]
  },
  {
   "cell_type": "markdown",
   "metadata": {},
   "source": [
    "Categorcal variable to flag if the country where the transaction was performed and the merchant country are the same."
   ]
  },
  {
   "cell_type": "code",
   "execution_count": 50,
   "metadata": {},
   "outputs": [],
   "source": [
    "transact_df.loc[transact_df['acqCountry'] == transact_df['merchantCountryCode'], 'Country_mismatch'] = 0\n",
    "transact_df.loc[transact_df['acqCountry'] != transact_df['merchantCountryCode'], 'Country_mismatch'] = 1"
   ]
  },
  {
   "cell_type": "code",
   "execution_count": 51,
   "metadata": {},
   "outputs": [
    {
     "data": {
      "text/plain": [
       "0.0    776601\n",
       "1.0        67\n",
       "Name: Country_mismatch, dtype: int64"
      ]
     },
     "execution_count": 51,
     "metadata": {},
     "output_type": "execute_result"
    }
   ],
   "source": [
    "transact_df['Country_mismatch'].value_counts()"
   ]
  },
  {
   "cell_type": "markdown",
   "metadata": {},
   "source": [
    "There are very few overseas transactions available in the data."
   ]
  },
  {
   "cell_type": "markdown",
   "metadata": {},
   "source": [
    "Numeric variable to calculate the utilization rate. Utilization rate is the ratio of the the credit utilized to the credit limit."
   ]
  },
  {
   "cell_type": "code",
   "execution_count": 52,
   "metadata": {},
   "outputs": [],
   "source": [
    "transact_df['utilization_rate'] = transact_df['currentBalance']/transact_df['creditLimit']"
   ]
  },
  {
   "cell_type": "code",
   "execution_count": 53,
   "metadata": {},
   "outputs": [
    {
     "data": {
      "image/png": "[encoded data removed]",
      "text/plain": [
       "<Figure size 432x288 with 1 Axes>"
      ]
     },
     "metadata": {
      "needs_background": "light"
     },
     "output_type": "display_data"
    }
   ],
   "source": [
    "# Plotting the distribution of fraudulent transactions and utilization rate\n",
    "sns.stripplot(x='isFraud', y='utilization_rate', data=transact_df)\n",
    "plt.title('Fraudulent Transactions vs Utilization Rate')\n",
    "plt.show()"
   ]
  },
  {
   "cell_type": "code",
   "execution_count": 54,
   "metadata": {},
   "outputs": [
    {
     "data": {
      "text/plain": [
       "1    3104\n",
       "2    1471\n",
       "3     369\n",
       "4      45\n",
       "5       7\n",
       "6       1\n",
       "Name: numCards, dtype: int64"
      ]
     },
     "execution_count": 54,
     "metadata": {},
     "output_type": "execute_result"
    }
   ],
   "source": [
    "# Check if a customer has mutiple credit cards\n",
    "cards_df = transact_df[['accountNumber', 'cardLast4Digits']]\n",
    "cards_df = cards_df.drop_duplicates()\n",
    "\n",
    "# Count of credit cards at customer level\n",
    "cards_df = cards_df.groupby(['accountNumber'])[['cardLast4Digits']].count()\n",
    "cards_df.reset_index(level=0, inplace=True)\n",
    "\n",
    "# rename column name\n",
    "cards_df = cards_df.rename({'cardLast4Digits':'numCards'}, axis=1)\n",
    "cards_df['numCards'].value_counts()"
   ]
  },
  {
   "cell_type": "code",
   "execution_count": 55,
   "metadata": {},
   "outputs": [
    {
     "data": {
      "image/png": "[encoded data removed]",
      "text/plain": [
       "<Figure size 432x288 with 1 Axes>"
      ]
     },
     "metadata": {
      "needs_background": "light"
     },
     "output_type": "display_data"
    }
   ],
   "source": [
    "# Distribution of accounts with number of credit cards \n",
    "cards_df_number = cards_df['numCards'].value_counts()\n",
    "\n",
    "# Plot distribution of accounts with number of credit cards  \n",
    "cards_df_number.plot(kind = 'bar')\n",
    "plt.title(\"Distribution of accounts with number of credit cards\")\n",
    "plt.xlabel(\"Number of credit cards\")\n",
    "plt.ylabel(\"Frequency\")\n",
    "plt.show()"
   ]
  },
  {
   "cell_type": "code",
   "execution_count": 56,
   "metadata": {},
   "outputs": [],
   "source": [
    "transact_df = pd.merge(transact_df, cards_df, on='accountNumber', how='left')"
   ]
  },
  {
   "cell_type": "markdown",
   "metadata": {},
   "source": [
    "About 40% customers own more than one credit cards."
   ]
  },
  {
   "cell_type": "code",
   "execution_count": 57,
   "metadata": {},
   "outputs": [],
   "source": [
    "# Num of fraud transactions at merchant level\n",
    "num_frauds_merchant = transact_df.groupby(['merchantName'])[['isFraud']].sum()\n",
    "num_frauds_merchant.reset_index(level=0, inplace=True)\n",
    "num_frauds_merchant = num_frauds_merchant.rename({'isFraud':'numFraud'}, axis=1)\n",
    "\n",
    "# Sort in descending order of transaction amount\n",
    "num_frauds_merchant = num_frauds_merchant.sort_values(['numFraud'], ascending=False).reset_index(drop=True)"
   ]
  },
  {
   "cell_type": "code",
   "execution_count": 58,
   "metadata": {},
   "outputs": [
    {
     "data": {
      "text/html": [
       "<div>\n",
       "<style scoped>\n",
       "    .dataframe tbody tr th:only-of-type {\n",
       "        vertical-align: middle;\n",
       "    }\n",
       "\n",
       "    .dataframe tbody tr th {\n",
       "        vertical-align: top;\n",
       "    }\n",
       "\n",
       "    .dataframe thead th {\n",
       "        text-align: right;\n",
       "    }\n",
       "</style>\n",
       "<table border=\"1\" class=\"dataframe\">\n",
       "  <thead>\n",
       "    <tr style=\"text-align: right;\">\n",
       "      <th></th>\n",
       "      <th>merchantName</th>\n",
       "      <th>numFraud</th>\n",
       "    </tr>\n",
       "  </thead>\n",
       "  <tbody>\n",
       "    <tr>\n",
       "      <th>0</th>\n",
       "      <td>Lyft</td>\n",
       "      <td>739</td>\n",
       "    </tr>\n",
       "    <tr>\n",
       "      <th>1</th>\n",
       "      <td>ebay.com</td>\n",
       "      <td>629</td>\n",
       "    </tr>\n",
       "    <tr>\n",
       "      <th>2</th>\n",
       "      <td>Fresh Flowers</td>\n",
       "      <td>529</td>\n",
       "    </tr>\n",
       "    <tr>\n",
       "      <th>3</th>\n",
       "      <td>Uber</td>\n",
       "      <td>494</td>\n",
       "    </tr>\n",
       "    <tr>\n",
       "      <th>4</th>\n",
       "      <td>cheapfast.com</td>\n",
       "      <td>430</td>\n",
       "    </tr>\n",
       "    <tr>\n",
       "      <th>5</th>\n",
       "      <td>walmart.com</td>\n",
       "      <td>420</td>\n",
       "    </tr>\n",
       "    <tr>\n",
       "      <th>6</th>\n",
       "      <td>sears.com</td>\n",
       "      <td>407</td>\n",
       "    </tr>\n",
       "    <tr>\n",
       "      <th>7</th>\n",
       "      <td>oldnavy.com</td>\n",
       "      <td>388</td>\n",
       "    </tr>\n",
       "    <tr>\n",
       "      <th>8</th>\n",
       "      <td>staples.com</td>\n",
       "      <td>384</td>\n",
       "    </tr>\n",
       "    <tr>\n",
       "      <th>9</th>\n",
       "      <td>alibaba.com</td>\n",
       "      <td>368</td>\n",
       "    </tr>\n",
       "  </tbody>\n",
       "</table>\n",
       "</div>"
      ],
      "text/plain": [
       "    merchantName  numFraud\n",
       "0           Lyft       739\n",
       "1       ebay.com       629\n",
       "2  Fresh Flowers       529\n",
       "3           Uber       494\n",
       "4  cheapfast.com       430\n",
       "5    walmart.com       420\n",
       "6      sears.com       407\n",
       "7    oldnavy.com       388\n",
       "8    staples.com       384\n",
       "9    alibaba.com       368"
      ]
     },
     "execution_count": 58,
     "metadata": {},
     "output_type": "execute_result"
    }
   ],
   "source": [
    "# Eyeballing the data\n",
    "num_frauds_merchant.head(10)"
   ]
  },
  {
   "cell_type": "code",
   "execution_count": 59,
   "metadata": {},
   "outputs": [],
   "source": [
    "transact_df = pd.merge(transact_df, num_frauds_merchant, on='merchantName', how='left')"
   ]
  },
  {
   "cell_type": "markdown",
   "metadata": {},
   "source": [
    "The highest fraudulent transactions seem to come from rideshare services like Lyft and Uber and online retail websites like ebay.com and walmart.com. However, this mostly seems to be a consequence of the distribution of our data with the vast majority of transactions belonging to these merchants."
   ]
  },
  {
   "cell_type": "markdown",
   "metadata": {},
   "source": [
    "### Step 3: Preprocessing\n",
    "\n",
    "Data preprocessing is done to transform raw features to representations that are better suited to work with machine learning algorithms. For preprocessing the data, I have used the following techniques:\n",
    "\n",
    "1. **Drop features not useful in modeling:** For modeling we will retain only a subset of the columns which are (in a strictly qualitative sense) relevant to the target variable. We will drop the date variables as they do not add any useful information.\n",
    "2. **Standardize continuous variables:** The continuous features are standardized by removing their means and scaling by dividing with the standard deviation. This process, also known as Z-score normalization is done so that the variable has the properties of a standard normal distribution with 0 mean and unit sd.\n",
    "3. **One-hot encoding of categorical variables:** The categorical features are transformed to numeric (binary) features by one-hot encoding. One-hot encoding does not imply any ordinal relationship between the classes.\n",
    "4. **Convert boolean variables to integer:** The boolean features are transformed to numeric (binary) features by casting them as integer data type."
   ]
  },
  {
   "cell_type": "code",
   "execution_count": 60,
   "metadata": {},
   "outputs": [],
   "source": [
    "# Dropping redundant columns\n",
    "extra = ['accountNumber','accountOpenDate',  'acqCountry', 'cardCVV', 'cardLast4Digits', 'currentExpDate', 'dateOfLastAddressChange', 'enteredCVV', 'merchantCountryCode', 'merchantName', 'transactionDateTime', 'transactionDate', 'transactionTime', 'transactionHour', 'accountOpenYear']\n",
    "\n",
    "transact_df.drop(extra, axis=1, inplace=True)"
   ]
  },
  {
   "cell_type": "code",
   "execution_count": 61,
   "metadata": {},
   "outputs": [],
   "source": [
    "# Standardize continuous variables by removing the mean and scaling to unit variance\n",
    "def standardize(df, cols):\n",
    "    ss = StandardScaler()\n",
    "    \n",
    "    for col in cols:\n",
    "        df['std' + col] = ss.fit_transform(df[col].values.reshape(-1, 1))\n",
    "    \n",
    "    df.drop(continuous, axis=1, inplace=True)\n",
    "    \n",
    "    return df\n",
    "\n",
    "continuous =  ['availableMoney', 'creditLimit', 'currentBalance', 'transactionAmount', 'utilization_rate', 'numCards', 'numFraud']\n",
    "transact_df = standardize(transact_df, continuous)"
   ]
  },
  {
   "cell_type": "code",
   "execution_count": 62,
   "metadata": {},
   "outputs": [],
   "source": [
    "# One hot encoding of categorical variables\n",
    "def one_hot(df, cols):\n",
    "    \n",
    "    for col in cols:\n",
    "        one_hot = pd.get_dummies(df[col], prefix=col)\n",
    "        df = df.drop(col,axis = 1)\n",
    "        df = pd.concat([df, one_hot], axis=1)\n",
    "    \n",
    "    return df\n",
    "\n",
    "categorical = ['transactionType', 'merchantCategoryCode', 'posConditionCode', 'posEntryMode']\n",
    "transact_df = one_hot(transact_df, categorical)"
   ]
  },
  {
   "cell_type": "code",
   "execution_count": 63,
   "metadata": {},
   "outputs": [],
   "source": [
    "# Convert Boolean variables to int\n",
    "boolean = ['cardPresent', 'expirationDateKeyInMatch']\n",
    "\n",
    "for col in boolean:\n",
    "    transact_df[col] = transact_df[col].astype(int)"
   ]
  },
  {
   "cell_type": "markdown",
   "metadata": {},
   "source": [
    "### Step 5: Train Test Split\n",
    "\n",
    "I am using a holdout validation approach where I train use 75% of the dataset for training my model and the rest 25% to test the model."
   ]
  },
  {
   "cell_type": "code",
   "execution_count": 64,
   "metadata": {},
   "outputs": [],
   "source": [
    "X = transact_df.loc[:, transact_df.columns != 'isFraud']\n",
    "y = transact_df.loc[:, transact_df.columns == 'isFraud']"
   ]
  },
  {
   "cell_type": "code",
   "execution_count": 65,
   "metadata": {},
   "outputs": [
    {
     "name": "stdout",
     "output_type": "stream",
     "text": [
      "\n",
      "Number transactions train dataset:  582501\n",
      "Number transactions test dataset:  194167\n",
      "Total number of transactions:  776668\n"
     ]
    }
   ],
   "source": [
    "X_train, X_test, y_train, y_test = train_test_split(X, y ,test_size = 0.25, random_state = 0)\n",
    "\n",
    "print(\"\")\n",
    "print(\"Number transactions train dataset: \", len(X_train))\n",
    "print(\"Number transactions test dataset: \", len(X_test))\n",
    "print(\"Total number of transactions: \", len(X_train)+len(X_test))"
   ]
  },
  {
   "cell_type": "markdown",
   "metadata": {},
   "source": [
    "### Step 6: Oversampling\n",
    "\n",
    "I have upsampled the data to train samples only to ensure a 50-50 ratio of the target variable classes. However, the size of the data after upsampling is very high which would significantly increase the running time for model training."
   ]
  },
  {
   "cell_type": "code",
   "execution_count": 66,
   "metadata": {},
   "outputs": [
    {
     "data": {
      "text/plain": [
       "1    573495\n",
       "0    573495\n",
       "Name: isFraud, dtype: int64"
      ]
     },
     "execution_count": 66,
     "metadata": {},
     "output_type": "execute_result"
    }
   ],
   "source": [
    "# separate minority and majority classes\n",
    "train = pd.concat([X_train, y_train], axis=1)\n",
    "\n",
    "Fraud = train[train.isFraud==1]\n",
    "notFraud = train[train.isFraud==0]\n",
    "\n",
    "fraud_upsampled = resample(Fraud,\n",
    "                          replace=True, # sample with replacement\n",
    "                          n_samples=len(notFraud), # match number in majority class\n",
    "                          random_state=27) # reproducible results\n",
    "\n",
    "upsampled = pd.concat([notFraud, fraud_upsampled])\n",
    "upsampled.isFraud.value_counts()"
   ]
  },
  {
   "cell_type": "code",
   "execution_count": 67,
   "metadata": {},
   "outputs": [],
   "source": [
    "X_train1 = upsampled.loc[:, upsampled.columns != 'isFraud']\n",
    "y_train1 = upsampled.loc[:, upsampled.columns == 'isFraud']"
   ]
  },
  {
   "cell_type": "markdown",
   "metadata": {},
   "source": [
    "### Step 6: Model Training and Testing\n",
    "\n",
    "I have used three different machine learning algorithms to train my model and evaluated the performance of the model on the test data. For model testing, I have created a confusion matrix on the test data to see the number of correct and incorrect predictions - True Positives (TP), True Negatives (TN), False Positives (FP) and False Negatives (FN) - the model has made when comaparing the predicted labels with the labels of the testing dataset. I have calculated the following metrics using this information: \n",
    "\n",
    "1. **Accuracy:** Accuracy is the ratio of classes correctly predicted to the total predictions. It is calculated as:\n",
    "$$Accuracy = \\frac{TP+TN}{TP+FP+FN+TN}$$\n",
    "\n",
    "\n",
    "2. **Precision:** Precision is the ratio of transactions correctly predicted as 'fraud' by the model to all transactions predicted as 'fraud'. It is calculated as:\n",
    "$$Precision = \\frac{TP}{TP+FP}$$\n",
    "\n",
    "\n",
    "3. **Recall (TPR):** Recall is the ratio of transactions correctly predicted as 'fraud' by the model to the ratio of all transactions which are actually 'fraud'. It is calculated as:\n",
    "$$Recall = \\frac{TP}{TP+FN}$$\n",
    "\n",
    "\n",
    "4. **F1 Score:** F1 score is the harmonic mean of precision and recall given as:\n",
    "$$F1 = 2*\\frac{Precision * Recall}{Precision + Recall}$$\n",
    "\n",
    "\n",
    "F1 score is a robust measure of model performance for an imbalanced class distribution (large true negatives) as it measures the balance between the precision and recall.\n",
    "\n",
    "\n",
    "5. **Receiver Operating Characteristic (ROC) curve and Area Under the Curve (AUC):** The ROC curve plots the two parameters True Positive Rate (TPR = TP/TP+FN) and False Positive Rate (FPR = FP/FP+FN). The AUC is the area under the ROC curve and measures the predictive power of the model or its capability to distinguish between two classes. Higher the AUC, better the model is at distinguishing between classes and an AUC of 50% suggests that the model has no discrimination power."
   ]
  },
  {
   "cell_type": "code",
   "execution_count": 68,
   "metadata": {},
   "outputs": [],
   "source": [
    "#Utility function to evaluate model predictions against testing data\n",
    "def model_evaluation(y_pred, y_test):\n",
    "    print(\"Evaluating model performance...\", \"\\n\")\n",
    "\n",
    "    cnf_mat = confusion_matrix(y_test,y_pred)\n",
    "    sns.heatmap(cnf_mat.T, square=True, annot=True, fmt='d', cmap='Blues', cbar=False)\n",
    "    plt.title('Confusion Matrix')\n",
    "    plt.xlabel('True label')\n",
    "    plt.ylabel('Predicted label')\n",
    "    plt.show()\n",
    "    \n",
    "    print('Accuracy: {}%'.format(round(accuracy_score(y_test, y_pred)*100, 2)))\n",
    "    print('Precision: {}%'.format(round(precision_score(y_test, y_pred)*100, 2)))\n",
    "    print('Recall: {}%'.format(round(recall_score(y_test, y_pred)*100, 2)))\n",
    "    print('F1 Score: {}'.format(round(f1_score(y_test, y_pred), 1)))\n",
    "    print('ROC Area Under Curve: {}%'.format(round(roc_auc_score(y_test, y_pred)*100, 2)))\n",
    "\n",
    "\n",
    "    fpr, tpr, _ = roc_curve(y_test, y_pred)\n",
    "    plt.plot(fpr, tpr)\n",
    "    plt.title('ROC')\n",
    "    plt.xlabel('False Positive Rate')\n",
    "    plt.ylabel('True Positive Rate')\n",
    "    plt.show()"
   ]
  },
  {
   "cell_type": "markdown",
   "metadata": {},
   "source": [
    "#### Random forest\n",
    "\n",
    "Random forest is an ensemble model which grows multiple decision tree classifiers and chooses the average of all tree in the forest. Random forests run efficiently on large datasets with multiple features and do not overfit even on imbalanced data. Similar to decision trees, we can estimate the importance of each variable to the model from a random forest model."
   ]
  },
  {
   "cell_type": "code",
   "execution_count": 69,
   "metadata": {},
   "outputs": [],
   "source": [
    "#Random forest\n",
    "forest = RandomForestClassifier(n_estimators=100, class_weight = 'balanced', n_jobs = -1)\n",
    "\n",
    "#fit\n",
    "forest.fit(X_train1, y_train1.values.ravel())\n",
    "\n",
    "#predict probabilities\n",
    "y_pred = forest.predict_proba(X_test)\n"
   ]
  },
  {
   "cell_type": "code",
   "execution_count": 70,
   "metadata": {},
   "outputs": [
    {
     "data": {
      "text/plain": [
       "[Text(125.55000000000001, 190.26, 'X[10] <= -0.783\\ngini = 0.5\\nsamples = 1146990\\nvalue = [573495, 573495]'),\n",
       " Text(83.7, 135.9, 'gini = 0.0\\nsamples = 113619\\nvalue = [113619, 0]'),\n",
       " Text(167.4, 135.9, 'X[37] <= 0.5\\ngini = 0.494\\nsamples = 1033371\\nvalue = [459876, 573495]'),\n",
       " Text(83.7, 81.53999999999999, 'X[7] <= -0.173\\ngini = 0.467\\nsamples = 732050\\nvalue = [272449, 459601]'),\n",
       " Text(41.85, 27.180000000000007, 'gini = 0.499\\nsamples = 284395\\nvalue = [147908, 136487]'),\n",
       " Text(125.55000000000001, 27.180000000000007, 'gini = 0.402\\nsamples = 447655\\nvalue = [124541, 323114]'),\n",
       " Text(251.10000000000002, 81.53999999999999, 'X[7] <= 0.208\\ngini = 0.47\\nsamples = 301321\\nvalue = [187427, 113894]'),\n",
       " Text(209.25, 27.180000000000007, 'gini = 0.438\\nsamples = 189450\\nvalue = [128176, 61274]'),\n",
       " Text(292.95, 27.180000000000007, 'gini = 0.498\\nsamples = 111871\\nvalue = [59251, 52620]')]"
      ]
     },
     "execution_count": 70,
     "metadata": {},
     "output_type": "execute_result"
    },
    {
     "data": {
      "image/png": "[encoded data removed]",
      "text/plain": [
       "<Figure size 432x288 with 1 Axes>"
      ]
     },
     "metadata": {
      "needs_background": "light"
     },
     "output_type": "display_data"
    }
   ],
   "source": [
    "single_forest = tree.DecisionTreeClassifier(max_depth = 3)\n",
    "tree.plot_tree(single_forest.fit(X_train1, y_train1.values.ravel())) "
   ]
  },
  {
   "cell_type": "code",
   "execution_count": 71,
   "metadata": {},
   "outputs": [
    {
     "name": "stdout",
     "output_type": "stream",
     "text": [
      "Evaluating model performance... \n",
      "\n"
     ]
    },
    {
     "data": {
      "image/png": "[encoded data removed]",
      "text/plain": [
       "<Figure size 432x288 with 1 Axes>"
      ]
     },
     "metadata": {
      "needs_background": "light"
     },
     "output_type": "display_data"
    },
    {
     "name": "stdout",
     "output_type": "stream",
     "text": [
      "Accuracy: 74.03%\n",
      "Precision: 3.72%\n",
      "Recall: 64.43%\n",
      "F1 Score: 0.1\n",
      "ROC Area Under Curve: 69.3%\n"
     ]
    },
    {
     "data": {
      "image/png": "[encoded data removed]",
      "text/plain": [
       "<Figure size 432x288 with 1 Axes>"
      ]
     },
     "metadata": {
      "needs_background": "light"
     },
     "output_type": "display_data"
    }
   ],
   "source": [
    "# Cutoff probabilities\n",
    "y_pred[:,1][y_pred[:,1]>=0.02]=1\n",
    "y_pred[:,1][y_pred[:,1]<0.02]=0\n",
    "y_pred1=y_pred[:,1]\n",
    "\n",
    "#evaluate\n",
    "model_evaluation(y_pred1, y_test)"
   ]
  },
  {
   "cell_type": "markdown",
   "metadata": {},
   "source": [
    "The performance of the random forest algorithm is:\n",
    "\n",
    "1. An AUC of ~70% indicates a high predictive power and the model correctly predicts 70 out of 100 cases.\n",
    "2. The recall of ~64% indicates that the model manages to correctly identify 64 out of 100 fraud cases.  \n",
    "4. The accuracy of ~74% indicates that the model correctly predicts 74 out of 100 cases."
   ]
  },
  {
   "cell_type": "code",
   "execution_count": 72,
   "metadata": {},
   "outputs": [
    {
     "name": "stdout",
     "output_type": "stream",
     "text": [
      "('stdtransactionAmount', 0.19292170392924954)\n",
      "('stdnumFraud', 0.17921095295443637)\n",
      "('stdcurrentBalance', 0.1299448966515413)\n",
      "('stdavailableMoney', 0.12827738357098223)\n",
      "('stdutilization_rate', 0.12306854403746423)\n",
      "('stdcreditLimit', 0.052235927828843134)\n",
      "('posEntryMode_05', 0.03322657546011814)\n",
      "('stdnumCards', 0.03234807901949449)\n",
      "('cardPresent', 0.015145204393173685)\n",
      "('posEntryMode_09', 0.014430734122390671)\n",
      "('merchantCategoryCode_online_retail', 0.008100161641828961)\n",
      "('posEntryMode_02', 0.006962696634176331)\n",
      "('merchantCategoryCode_fastfood', 0.006722625150382298)\n",
      "('posConditionCode_08', 0.00651971451109621)\n",
      "('posConditionCode_01', 0.006458380450925424)\n",
      "('merchantCategoryCode_entertainment', 0.006432710751021615)\n",
      "('merchantCategoryCode_airline', 0.004517706556103877)\n",
      "('merchantCategoryCode_online_gifts', 0.004431434782485176)\n",
      "('merchantCategoryCode_food', 0.004321012561258022)\n",
      "('merchantCategoryCode_fuel', 0.004229845004248517)\n",
      "('merchantCategoryCode_subscriptions', 0.0030998732292873313)\n",
      "('merchantCategoryCode_rideshare', 0.0030297832000683884)\n",
      "('transactionType_PURCHASE', 0.0029988764375382306)\n",
      "('CVV_mismatch', 0.0029218783450522833)\n",
      "('merchantCategoryCode_personal care', 0.0028635736941824514)\n",
      "('merchantCategoryCode_hotels', 0.00266665583197662)\n",
      "('merchantCategoryCode_mobileapps', 0.0026460382049771866)\n",
      "('posEntryMode_90', 0.002589349478257763)\n",
      "('merchantCategoryCode_auto', 0.0024638154680638757)\n",
      "('transactionType_REVERSAL', 0.0024557600101391404)\n",
      "('transactionType_ADDRESS_VERIFICATION', 0.0023051212503924236)\n",
      "('posConditionCode_99', 0.0021612549204614536)\n",
      "('posEntryMode_80', 0.002085321181814857)\n",
      "('merchantCategoryCode_health', 0.001982537646399102)\n",
      "('merchantCategoryCode_online_subscriptions', 0.0014362610867343704)\n",
      "('merchantCategoryCode_furniture', 0.0014209578537004957)\n",
      "('merchantCategoryCode_food_delivery', 0.0008225739053974977)\n",
      "('expirationDateKeyInMatch', 0.00036691784925254494)\n",
      "('merchantCategoryCode_gym', 8.412473404031831e-05)\n",
      "('merchantCategoryCode_cable/phone', 8.200365752243085e-05)\n",
      "('Country_mismatch', 1.1032003520789878e-05)\n"
     ]
    }
   ],
   "source": [
    "forest_features = list(zip(X.columns, forest.feature_importances_))\n",
    "forest_features.sort(key = lambda x:x[1], reverse=True)\n",
    "\n",
    "for item in forest_features:\n",
    "    print(item)"
   ]
  },
  {
   "cell_type": "markdown",
   "metadata": {},
   "source": [
    "The most important features for the random forest classifier are transaction amount, number of frauds at a merchant level, current balance, available money and utilization rate."
   ]
  },
  {
   "cell_type": "markdown",
   "metadata": {},
   "source": [
    "#### Logistic Regression\n",
    "\n",
    "Logistic Regression is the most common supervised learning algorithm used in binary classification problems. Logistic regression works well with numeric features and generally acts as a good baseline model before trying out different algorithms.\n",
    "\n",
    "I have used logistic regression with a Stochastic Average Gradient (sag) descent solver which is optimized to work on large datasets. It also incorporates L2 regularization in the model to reduce overfitting."
   ]
  },
  {
   "cell_type": "code",
   "execution_count": 75,
   "metadata": {
    "scrolled": true
   },
   "outputs": [
    {
     "name": "stdout",
     "output_type": "stream",
     "text": [
      "Evaluating model performance... \n",
      "\n"
     ]
    },
    {
     "data": {
      "image/png": "[encoded data removed]",
      "text/plain": [
       "<Figure size 432x288 with 1 Axes>"
      ]
     },
     "metadata": {
      "needs_background": "light"
     },
     "output_type": "display_data"
    },
    {
     "name": "stdout",
     "output_type": "stream",
     "text": [
      "Accuracy: 67.19%\n",
      "Precision: 3.16%\n",
      "Recall: 69.16%\n",
      "F1 Score: 0.1\n",
      "ROC Area Under Curve: 68.16%\n"
     ]
    },
    {
     "data": {
      "image/png": "[encoded data removed]",
      "text/plain": [
       "<Figure size 432x288 with 1 Axes>"
      ]
     },
     "metadata": {
      "needs_background": "light"
     },
     "output_type": "display_data"
    }
   ],
   "source": [
    "#Logistic Regression\n",
    "lr = LogisticRegression(solver='sag', penalty='l2', max_iter=500)\n",
    "\n",
    "#fit\n",
    "lr.fit(X_train1, y_train1.values.ravel())\n",
    "\n",
    "#predict\n",
    "y_pred = lr.predict(X_test)\n",
    "\n",
    "#evaluate\n",
    "model_evaluation(y_pred, y_test)"
   ]
  },
  {
   "cell_type": "markdown",
   "metadata": {},
   "source": [
    "The performance of the logistic regression algorithm is:\n",
    "\n",
    "An AUC of ~70% indicates a high predictive power and the model correctly predicts 70 out of 100 cases.\n",
    "The recall of ~70% indicates that the model manages to correctly identify 70 out of 100 fraud cases.\n",
    "The accuracy of ~67% indicates that the model correctly predicts 67 out of 100 cases."
   ]
  },
  {
   "cell_type": "markdown",
   "metadata": {},
   "source": [
    "## References:\n",
    "    \n",
    "1. Pandas Official Documentation\n",
    "https://pandas.pydata.org/docs/\n",
    "\n",
    "2. Scikit Learn User Guide\n",
    "https://scikit-learn.org/stable/user_guide.html\n",
    "\n",
    "3. Seaborn Official tutorial\n",
    "https://seaborn.pydata.org/tutorial.html\n",
    "\n",
    "4. Dr. Sebastian Raschka's blog\n",
    "https://sebastianraschka.com/blog/index.html\n",
    "\n",
    "5. Dr. Jason Brownlee's blog\n",
    "https://machinelearningmastery.com/blog/\n",
    "\n",
    "6. Dr. Leo Breiman's notes on Random Forests\n",
    "https://www.stat.berkeley.edu/~breiman/RandomForests/cc_home.htm"
   ]
  },
  {
   "cell_type": "code",
   "execution_count": null,
   "metadata": {},
   "outputs": [],
   "source": []
  }
 ],
 "metadata": {
  "kernelspec": {
   "display_name": "Python 3",
   "language": "python",
   "name": "python3"
  },
  "language_info": {
   "codemirror_mode": {
    "name": "ipython",
    "version": 3
   },
   "file_extension": ".py",
   "mimetype": "text/x-python",
   "name": "python",
   "nbconvert_exporter": "python",
   "pygments_lexer": "ipython3",
   "version": "3.7.3"
  }
 },
 "nbformat": 4,
 "nbformat_minor": 2
}
